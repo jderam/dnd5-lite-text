{
 "cells": [
  {
   "cell_type": "code",
   "execution_count": 1,
   "metadata": {},
   "outputs": [],
   "source": [
    "%load_ext autoreload\n",
    "%autoreload 2"
   ]
  },
  {
   "cell_type": "code",
   "execution_count": 5,
   "metadata": {},
   "outputs": [],
   "source": [
    "import random\n",
    "import json\n",
    "import requests\n",
    "import dnd_lite"
   ]
  },
  {
   "cell_type": "code",
   "execution_count": 20,
   "metadata": {},
   "outputs": [
    {
     "data": {
      "text/plain": [
       "[14, 13, 8, 12, 15, 10]"
      ]
     },
     "execution_count": 20,
     "metadata": {},
     "output_type": "execute_result"
    }
   ],
   "source": [
    "dnd_lite.standard_array"
   ]
  },
  {
   "cell_type": "code",
   "execution_count": 8,
   "metadata": {},
   "outputs": [
    {
     "name": "stdout",
     "output_type": "stream",
     "text": [
      "[15, 14, 13, 12, 10, 8]\n"
     ]
    }
   ],
   "source": [
    "ab_scores = dnd_lite.standard_array\n",
    "print(ab_scores)"
   ]
  },
  {
   "cell_type": "code",
   "execution_count": 15,
   "metadata": {},
   "outputs": [],
   "source": [
    "random.shuffle(ab_scores)"
   ]
  },
  {
   "cell_type": "code",
   "execution_count": 16,
   "metadata": {},
   "outputs": [
    {
     "name": "stdout",
     "output_type": "stream",
     "text": [
      "[14, 13, 8, 12, 15, 10]\n"
     ]
    }
   ],
   "source": [
    "print(ab_scores)"
   ]
  },
  {
   "cell_type": "code",
   "execution_count": 17,
   "metadata": {},
   "outputs": [],
   "source": [
    "prime_reqs = [0, 1, 3, 4]"
   ]
  },
  {
   "cell_type": "code",
   "execution_count": 18,
   "metadata": {},
   "outputs": [
    {
     "data": {
      "text/plain": [
       "4"
      ]
     },
     "execution_count": 18,
     "metadata": {},
     "output_type": "execute_result"
    }
   ],
   "source": [
    "ab_scores.index(15)"
   ]
  },
  {
   "cell_type": "code",
   "execution_count": 19,
   "metadata": {},
   "outputs": [],
   "source": [
    "def randomize_scores(ab_scores):\n",
    "    prime_reqs = [0, 1, 3, 4]\n",
    "    new_scores = random.shuffle(ab_scores)\n",
    "    while new_scores.index(15) not in prime_reqs:\n",
    "        new_scores = random.shuffle(ab_scores)\n",
    "    return new_scores"
   ]
  },
  {
   "cell_type": "code",
   "execution_count": 21,
   "metadata": {},
   "outputs": [
    {
     "ename": "AttributeError",
     "evalue": "'NoneType' object has no attribute 'index'",
     "output_type": "error",
     "traceback": [
      "\u001b[0;31m---------------------------------------------------------------------------\u001b[0m",
      "\u001b[0;31mAttributeError\u001b[0m                            Traceback (most recent call last)",
      "\u001b[0;32m<ipython-input-21-cf496f40c5ce>\u001b[0m in \u001b[0;36m<module>\u001b[0;34m\u001b[0m\n\u001b[1;32m      1\u001b[0m \u001b[0;32mfor\u001b[0m \u001b[0mi\u001b[0m \u001b[0;32min\u001b[0m \u001b[0mrange\u001b[0m\u001b[0;34m(\u001b[0m\u001b[0;36m1000\u001b[0m\u001b[0;34m)\u001b[0m\u001b[0;34m:\u001b[0m\u001b[0;34m\u001b[0m\u001b[0;34m\u001b[0m\u001b[0m\n\u001b[0;32m----> 2\u001b[0;31m     \u001b[0mmy_scores\u001b[0m \u001b[0;34m=\u001b[0m \u001b[0mrandomize_scores\u001b[0m\u001b[0;34m(\u001b[0m\u001b[0mab_scores\u001b[0m\u001b[0;34m)\u001b[0m\u001b[0;34m\u001b[0m\u001b[0;34m\u001b[0m\u001b[0m\n\u001b[0m\u001b[1;32m      3\u001b[0m     \u001b[0;32massert\u001b[0m \u001b[0mmy_scores\u001b[0m\u001b[0;34m.\u001b[0m\u001b[0mindex\u001b[0m\u001b[0;34m(\u001b[0m\u001b[0;36m15\u001b[0m\u001b[0;34m)\u001b[0m \u001b[0;32min\u001b[0m \u001b[0mprime_reqs\u001b[0m\u001b[0;34m,\u001b[0m \u001b[0;34m'error'\u001b[0m\u001b[0;34m\u001b[0m\u001b[0;34m\u001b[0m\u001b[0m\n",
      "\u001b[0;32m<ipython-input-19-e6652740ca28>\u001b[0m in \u001b[0;36mrandomize_scores\u001b[0;34m(ab_scores)\u001b[0m\n\u001b[1;32m      2\u001b[0m     \u001b[0mprime_reqs\u001b[0m \u001b[0;34m=\u001b[0m \u001b[0;34m[\u001b[0m\u001b[0;36m0\u001b[0m\u001b[0;34m,\u001b[0m \u001b[0;36m1\u001b[0m\u001b[0;34m,\u001b[0m \u001b[0;36m3\u001b[0m\u001b[0;34m,\u001b[0m \u001b[0;36m4\u001b[0m\u001b[0;34m]\u001b[0m\u001b[0;34m\u001b[0m\u001b[0;34m\u001b[0m\u001b[0m\n\u001b[1;32m      3\u001b[0m     \u001b[0mnew_scores\u001b[0m \u001b[0;34m=\u001b[0m \u001b[0mrandom\u001b[0m\u001b[0;34m.\u001b[0m\u001b[0mshuffle\u001b[0m\u001b[0;34m(\u001b[0m\u001b[0mab_scores\u001b[0m\u001b[0;34m)\u001b[0m\u001b[0;34m\u001b[0m\u001b[0;34m\u001b[0m\u001b[0m\n\u001b[0;32m----> 4\u001b[0;31m     \u001b[0;32mwhile\u001b[0m \u001b[0mnew_scores\u001b[0m\u001b[0;34m.\u001b[0m\u001b[0mindex\u001b[0m\u001b[0;34m(\u001b[0m\u001b[0;36m15\u001b[0m\u001b[0;34m)\u001b[0m \u001b[0;32mnot\u001b[0m \u001b[0;32min\u001b[0m \u001b[0mprime_reqs\u001b[0m\u001b[0;34m:\u001b[0m\u001b[0;34m\u001b[0m\u001b[0;34m\u001b[0m\u001b[0m\n\u001b[0m\u001b[1;32m      5\u001b[0m         \u001b[0mnew_scores\u001b[0m \u001b[0;34m=\u001b[0m \u001b[0mrandom\u001b[0m\u001b[0;34m.\u001b[0m\u001b[0mshuffle\u001b[0m\u001b[0;34m(\u001b[0m\u001b[0mab_scores\u001b[0m\u001b[0;34m)\u001b[0m\u001b[0;34m\u001b[0m\u001b[0;34m\u001b[0m\u001b[0m\n\u001b[1;32m      6\u001b[0m     \u001b[0;32mreturn\u001b[0m \u001b[0mnew_scores\u001b[0m\u001b[0;34m\u001b[0m\u001b[0;34m\u001b[0m\u001b[0m\n",
      "\u001b[0;31mAttributeError\u001b[0m: 'NoneType' object has no attribute 'index'"
     ]
    }
   ],
   "source": [
    "for i in range(1000):\n",
    "    my_scores = randomize_scores(ab_scores)\n",
    "    assert my_scores.index(15) in prime_reqs, 'error'"
   ]
  },
  {
   "cell_type": "code",
   "execution_count": null,
   "metadata": {},
   "outputs": [],
   "source": [
    "for i in range(100):\n",
    "    print(random.randint(1,8))"
   ]
  },
  {
   "cell_type": "code",
   "execution_count": 9,
   "metadata": {},
   "outputs": [
    {
     "name": "stdout",
     "output_type": "stream",
     "text": [
      "[6, 5, 4, 4]\n",
      "[4, 4, 5, 6]\n"
     ]
    }
   ],
   "source": [
    "rolls = [random.randint(1,6), random.randint(1,6), random.randint(1,6), random.randint(1,6)]\n",
    "print(rolls)\n",
    "rolls.sort()\n",
    "print(rolls)"
   ]
  },
  {
   "cell_type": "code",
   "execution_count": 11,
   "metadata": {},
   "outputs": [
    {
     "name": "stdout",
     "output_type": "stream",
     "text": [
      "[4, 5, 6]\n",
      "15\n"
     ]
    }
   ],
   "source": [
    "print(rolls[-3:])\n",
    "print(sum(rolls[-3:]))"
   ]
  },
  {
   "cell_type": "code",
   "execution_count": 17,
   "metadata": {},
   "outputs": [
    {
     "name": "stdout",
     "output_type": "stream",
     "text": [
      "[1, 6, 1, 3]\n"
     ]
    },
    {
     "data": {
      "text/plain": [
       "10"
      ]
     },
     "execution_count": 17,
     "metadata": {},
     "output_type": "execute_result"
    }
   ],
   "source": [
    "dnd_lite.roll_4d6()"
   ]
  },
  {
   "cell_type": "code",
   "execution_count": null,
   "metadata": {},
   "outputs": [],
   "source": [
    "def generate_char(pc_class=0, pc_race=0, verbose=False):\n",
    "    ''' generate a character\n",
    "        0 means random selection\n",
    "    '''\n",
    "    \n",
    "    if pc_class == 0:\n",
    "        class_id = random.choice([3, 5, 9, 12])\n",
    "    else:\n",
    "        assert pc_class in [3, 5, 9, 12], 'invalid pc_class'\n",
    "        class_id = pc_class\n",
    "    \n",
    "    # ability scores\n",
    "    \n",
    "    std_array = [15, 14, 13, 12, 10, 8]\n",
    "    def gen_ability_scores(class_id):\n",
    "        ''' populate ability scores based on class\n",
    "        '''\n",
    "        if class_id == 3:\n",
    "            WIS = std_array.pop(0)\n",
    "            \n",
    "            ability_scores = {\n",
    "                \"STR\": 0,\n",
    "                \"DEX\": 0,\n",
    "                \"CON\": ,\n",
    "                \"INT\": \n",
    "                \"WIS\": std\n",
    "                \"CHA\":\n",
    "            }\n",
    "    \n",
    "    class_url = 'http://dnd5eapi.co/api/classes/' + str(random_c)\n",
    "    c = requests.get(class_url)\n",
    "    assert c.status_code == 200, 'error retrieving class info'\n",
    "    char_class = c.json()['name']\n",
    "    \n",
    "    \n",
    "    if verbose:\n",
    "        print(char_class)\n",
    "    \n",
    "    "
   ]
  },
  {
   "cell_type": "code",
   "execution_count": null,
   "metadata": {},
   "outputs": [],
   "source": []
  },
  {
   "cell_type": "code",
   "execution_count": null,
   "metadata": {},
   "outputs": [],
   "source": [
    "'''\n",
    "3 = cleric\n",
    "5 = fighter\n",
    "9 = rogue\n",
    "12 = wizard\n",
    "'''"
   ]
  },
  {
   "cell_type": "code",
   "execution_count": 20,
   "metadata": {},
   "outputs": [
    {
     "name": "stdout",
     "output_type": "stream",
     "text": [
      "5\n"
     ]
    }
   ],
   "source": [
    "random_c = random.choice([3, 5, 9, 12])\n",
    "print(random_c)\n",
    "c = requests.get('http://dnd5eapi.co/api/classes/' + str(random_c))"
   ]
  },
  {
   "cell_type": "code",
   "execution_count": 22,
   "metadata": {},
   "outputs": [
    {
     "data": {
      "text/plain": [
       "200"
      ]
     },
     "execution_count": 22,
     "metadata": {},
     "output_type": "execute_result"
    }
   ],
   "source": [
    "c.status_code"
   ]
  },
  {
   "cell_type": "code",
   "execution_count": 23,
   "metadata": {},
   "outputs": [
    {
     "data": {
      "text/plain": [
       "{'_id': '5bce90ff5b7768e792017cf5',\n",
       " 'index': 5,\n",
       " 'name': 'Fighter',\n",
       " 'hit_die': 10,\n",
       " 'proficiency_choices': [{'from': [{'name': 'Skill: Acrobatics',\n",
       "     'url': 'http://www.dnd5eapi.co/api/proficiencies/105'},\n",
       "    {'name': 'Skill: Animal Handling',\n",
       "     'url': 'http://www.dnd5eapi.co/api/proficiencies/106'},\n",
       "    {'name': 'Skill: Athletics',\n",
       "     'url': 'http://www.dnd5eapi.co/api/proficiencies/108'},\n",
       "    {'name': 'Skill: History',\n",
       "     'url': 'http://www.dnd5eapi.co/api/proficiencies/110'},\n",
       "    {'name': 'Skill: Insight',\n",
       "     'url': 'http://www.dnd5eapi.co/api/proficiencies/111'},\n",
       "    {'name': 'Skill: Intimidation',\n",
       "     'url': 'http://www.dnd5eapi.co/api/proficiencies/112'},\n",
       "    {'name': 'Skill: Perception',\n",
       "     'url': 'http://www.dnd5eapi.co/api/proficiencies/116'},\n",
       "    {'name': 'Skill: Survival',\n",
       "     'url': 'http://www.dnd5eapi.co/api/proficiencies/122'}],\n",
       "   'type': 'proficiencies',\n",
       "   'choose': 2}],\n",
       " 'proficiencies': [{'url': 'http://www.dnd5eapi.co/api/proficiencies/4',\n",
       "   'name': 'All armor'},\n",
       "  {'url': 'http://www.dnd5eapi.co/api/proficiencies/18', 'name': 'Shields'},\n",
       "  {'url': 'http://www.dnd5eapi.co/api/proficiencies/19',\n",
       "   'name': 'Simple weapons'},\n",
       "  {'url': 'http://www.dnd5eapi.co/api/proficiencies/20',\n",
       "   'name': 'Martial weapons'}],\n",
       " 'saving_throws': [{'url': 'http://www.dnd5eapi.co/api/ability-scores/1',\n",
       "   'name': 'STR'},\n",
       "  {'url': 'http://www.dnd5eapi.co/api/ability-scores/3', 'name': 'CON'}],\n",
       " 'starting_equipment': {'url': 'http://www.dnd5eapi.co/api/startingequipment/5',\n",
       "  'class': 'Fighter'},\n",
       " 'class_levels': {'url': 'http://www.dnd5eapi.co/api/classes/Fighter/levels',\n",
       "  'class': 'Fighter'},\n",
       " 'subclasses': [{'name': 'Champion',\n",
       "   'url': 'http://www.dnd5eapi.co/api/subclasses/5'}],\n",
       " 'url': 'http://www.dnd5eapi.co/api/classes/5'}"
      ]
     },
     "execution_count": 23,
     "metadata": {},
     "output_type": "execute_result"
    }
   ],
   "source": [
    "c.json()"
   ]
  },
  {
   "cell_type": "code",
   "execution_count": 30,
   "metadata": {},
   "outputs": [
    {
     "name": "stdout",
     "output_type": "stream",
     "text": [
      "Fighter\n"
     ]
    }
   ],
   "source": [
    "char_class = c.json()['name']\n",
    "print(char_class)"
   ]
  },
  {
   "cell_type": "code",
   "execution_count": 31,
   "metadata": {},
   "outputs": [
    {
     "name": "stdout",
     "output_type": "stream",
     "text": [
      "10\n"
     ]
    }
   ],
   "source": [
    "char_hd = c.json()['hit_die']\n",
    "print(char_hd)"
   ]
  },
  {
   "cell_type": "code",
   "execution_count": 28,
   "metadata": {},
   "outputs": [
    {
     "data": {
      "text/plain": [
       "[{'name': 'Skill: Acrobatics',\n",
       "  'url': 'http://www.dnd5eapi.co/api/proficiencies/105'},\n",
       " {'name': 'Skill: Animal Handling',\n",
       "  'url': 'http://www.dnd5eapi.co/api/proficiencies/106'},\n",
       " {'name': 'Skill: Athletics',\n",
       "  'url': 'http://www.dnd5eapi.co/api/proficiencies/108'},\n",
       " {'name': 'Skill: History',\n",
       "  'url': 'http://www.dnd5eapi.co/api/proficiencies/110'},\n",
       " {'name': 'Skill: Insight',\n",
       "  'url': 'http://www.dnd5eapi.co/api/proficiencies/111'},\n",
       " {'name': 'Skill: Intimidation',\n",
       "  'url': 'http://www.dnd5eapi.co/api/proficiencies/112'},\n",
       " {'name': 'Skill: Perception',\n",
       "  'url': 'http://www.dnd5eapi.co/api/proficiencies/116'},\n",
       " {'name': 'Skill: Survival',\n",
       "  'url': 'http://www.dnd5eapi.co/api/proficiencies/122'}]"
      ]
     },
     "execution_count": 28,
     "metadata": {},
     "output_type": "execute_result"
    }
   ],
   "source": [
    "c.json()['proficiency_choices'][0]['from']"
   ]
  },
  {
   "cell_type": "code",
   "execution_count": 35,
   "metadata": {},
   "outputs": [],
   "source": [
    "my_stats = [\n",
    "    ('STR',1),\n",
    "    ('DEX',2),\n",
    "    ('CON',3),\n",
    "    ('INT',4),\n",
    "    ('WIS',5),\n",
    "    ('CHA',6),\n",
    "]"
   ]
  },
  {
   "cell_type": "code",
   "execution_count": 36,
   "metadata": {},
   "outputs": [
    {
     "data": {
      "text/plain": [
       "[('STR', 1), ('DEX', 2), ('CON', 3), ('INT', 4), ('WIS', 5), ('CHA', 6)]"
      ]
     },
     "execution_count": 36,
     "metadata": {},
     "output_type": "execute_result"
    }
   ],
   "source": [
    "my_stats"
   ]
  },
  {
   "cell_type": "code",
   "execution_count": 41,
   "metadata": {},
   "outputs": [],
   "source": [
    "my_stat_priority_list = ['INT','CON','CHA','DEX','WIS','STR']"
   ]
  },
  {
   "cell_type": "code",
   "execution_count": 42,
   "metadata": {},
   "outputs": [
    {
     "data": {
      "text/plain": [
       "2"
      ]
     },
     "execution_count": 42,
     "metadata": {},
     "output_type": "execute_result"
    }
   ],
   "source": [
    "my_stat_priority_list.index('CHA')"
   ]
  },
  {
   "cell_type": "code",
   "execution_count": 51,
   "metadata": {},
   "outputs": [],
   "source": [
    "race_id = random.choice([1,2,3,4])\n",
    "race_url = 'http://dnd5eapi.co/api/races/' + str(race_id)\n",
    "r = requests.get(race_url)\n",
    "assert r.status_code == 200, 'error retrieving race info'\n"
   ]
  },
  {
   "cell_type": "code",
   "execution_count": 52,
   "metadata": {},
   "outputs": [
    {
     "data": {
      "text/plain": [
       "{'_id': '5bce91525b7768e792018382',\n",
       " 'index': 1,\n",
       " 'name': 'Dwarf',\n",
       " 'speed': 30,\n",
       " 'ability_bonuses': [0, 0, 2, 0, 0, 0],\n",
       " 'alignment': 'Most dwarves are lawful, believing firmly in the benefits of a well-ordered society. They tend toward good as well, with a strong sense of fair play and a belief that everyone deserves to share in the benefits of a just order.',\n",
       " 'age': 'Dwarves mature at the same rate as humans, but they’re considered young until they reach the age of 50. On average, they live about 350 years.',\n",
       " 'size': 'Medium',\n",
       " 'size_description': 'Dwarves stand between 4 and 5 feet tall and average about 150 pounds. Your size is Medium.',\n",
       " 'starting_proficiencies': [{'name': 'Battleaxes',\n",
       "   'url': 'http://www.dnd5eapi.co/api/proficiencies/20'},\n",
       "  {'name': 'Handaxes', 'url': 'http://www.dnd5eapi.co/api/proficiencies/24'},\n",
       "  {'name': 'Light hammers',\n",
       "   'url': 'http://www.dnd5eapi.co/api/proficiencies/26'},\n",
       "  {'name': 'Warhammers',\n",
       "   'url': 'http://www.dnd5eapi.co/api/proficiencies/51'}],\n",
       " 'starting_proficiency_options': {'choose': 1,\n",
       "  'type': 'proficiencies',\n",
       "  'from': [{'name': \"Smith's tools\",\n",
       "    'url': 'http://www.dnd5eapi.co/api/proficiencies/71'},\n",
       "   {'name': \"Brewer's supplies\",\n",
       "    'url': 'http://www.dnd5eapi.co/api/proficiencies/59'},\n",
       "   {'name': \"Mason's tools\",\n",
       "    'url': 'http://www.dnd5eapi.co/api/proficiencies/68'}]},\n",
       " 'languages': [{'name': 'Common',\n",
       "   'url': 'http://www.dnd5eapi.co/api/languages/1'},\n",
       "  {'name': 'Dwarvish', 'url': 'http://www.dnd5eapi.co/api/languages/2'}],\n",
       " 'language_desc': 'You can speak, read, and write Common and Dwarvish. Dwarvish is full of hard consonants and guttural sounds, and those characteristics spill over into whatever other language a dwarf might speak.',\n",
       " 'traits': [{'url': 'http://www.dnd5eapi.co/api/traits/1',\n",
       "   'name': 'Darkvision (Dwarf)'},\n",
       "  {'url': 'http://www.dnd5eapi.co/api/traits/2', 'name': 'Dwarven Resilience'},\n",
       "  {'url': 'http://www.dnd5eapi.co/api/traits/3', 'name': 'Stonecunning'}],\n",
       " 'subraces': [{'name': 'Hill Dwarf',\n",
       "   'url': 'http://www.dnd5eapi.co/api/subraces/1'},\n",
       "  {'name': 'Mountain Dwarf', 'url': 'http://www.dnd5eapi.co/api/subraces/4'}],\n",
       " 'url': 'http://www.dnd5eapi.co/api/races/1'}"
      ]
     },
     "execution_count": 52,
     "metadata": {},
     "output_type": "execute_result"
    }
   ],
   "source": [
    "r.json()"
   ]
  },
  {
   "cell_type": "code",
   "execution_count": 49,
   "metadata": {},
   "outputs": [
    {
     "ename": "SyntaxError",
     "evalue": "EOL while scanning string literal (<ipython-input-49-87b718a188d4>, line 1)",
     "output_type": "error",
     "traceback": [
      "\u001b[0;36m  File \u001b[0;32m\"<ipython-input-49-87b718a188d4>\"\u001b[0;36m, line \u001b[0;32m1\u001b[0m\n\u001b[0;31m    long_string = 'first line\\n\u001b[0m\n\u001b[0m                               ^\u001b[0m\n\u001b[0;31mSyntaxError\u001b[0m\u001b[0;31m:\u001b[0m EOL while scanning string literal\n"
     ]
    }
   ],
   "source": [
    "long_string = 'first line\\n\n",
    "second line\\n\n",
    "third line'"
   ]
  },
  {
   "cell_type": "code",
   "execution_count": 48,
   "metadata": {},
   "outputs": [
    {
     "data": {
      "text/plain": [
       "'first linesecond linethird line'"
      ]
     },
     "execution_count": 48,
     "metadata": {},
     "output_type": "execute_result"
    }
   ],
   "source": [
    "long_string"
   ]
  },
  {
   "cell_type": "code",
   "execution_count": 50,
   "metadata": {},
   "outputs": [
    {
     "name": "stdout",
     "output_type": "stream",
     "text": [
      "1\n",
      "2\n",
      "3\n",
      "4\n",
      "5\n",
      "6\n",
      "7\n",
      "8\n",
      "9\n"
     ]
    }
   ],
   "source": [
    "for i in range(1,10):\n",
    "    print(i)"
   ]
  },
  {
   "cell_type": "code",
   "execution_count": null,
   "metadata": {},
   "outputs": [],
   "source": []
  }
 ],
 "metadata": {
  "kernelspec": {
   "display_name": "Python 3",
   "language": "python",
   "name": "python3"
  },
  "language_info": {
   "codemirror_mode": {
    "name": "ipython",
    "version": 3
   },
   "file_extension": ".py",
   "mimetype": "text/x-python",
   "name": "python",
   "nbconvert_exporter": "python",
   "pygments_lexer": "ipython3",
   "version": "3.7.1"
  }
 },
 "nbformat": 4,
 "nbformat_minor": 2
}
