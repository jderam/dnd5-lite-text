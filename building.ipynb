{
 "cells": [
  {
   "cell_type": "code",
   "execution_count": 33,
   "metadata": {},
   "outputs": [
    {
     "name": "stdout",
     "output_type": "stream",
     "text": [
      "The autoreload extension is already loaded. To reload it, use:\n",
      "  %reload_ext autoreload\n"
     ]
    }
   ],
   "source": [
    "%load_ext autoreload\n",
    "%autoreload 2"
   ]
  },
  {
   "cell_type": "code",
   "execution_count": 34,
   "metadata": {},
   "outputs": [],
   "source": [
    "import random\n",
    "import json\n",
    "import requests\n",
    "#import dnd_lite"
   ]
  },
  {
   "cell_type": "code",
   "execution_count": null,
   "metadata": {},
   "outputs": [],
   "source": [
    "for i in range(100):\n",
    "    print(random.randint(1,8))"
   ]
  },
  {
   "cell_type": "code",
   "execution_count": 9,
   "metadata": {},
   "outputs": [
    {
     "name": "stdout",
     "output_type": "stream",
     "text": [
      "[6, 5, 4, 4]\n",
      "[4, 4, 5, 6]\n"
     ]
    }
   ],
   "source": [
    "rolls = [random.randint(1,6), random.randint(1,6), random.randint(1,6), random.randint(1,6)]\n",
    "print(rolls)\n",
    "rolls.sort()\n",
    "print(rolls)"
   ]
  },
  {
   "cell_type": "code",
   "execution_count": 11,
   "metadata": {},
   "outputs": [
    {
     "name": "stdout",
     "output_type": "stream",
     "text": [
      "[4, 5, 6]\n",
      "15\n"
     ]
    }
   ],
   "source": [
    "print(rolls[-3:])\n",
    "print(sum(rolls[-3:]))"
   ]
  },
  {
   "cell_type": "code",
   "execution_count": 17,
   "metadata": {},
   "outputs": [
    {
     "name": "stdout",
     "output_type": "stream",
     "text": [
      "[1, 6, 1, 3]\n"
     ]
    },
    {
     "data": {
      "text/plain": [
       "10"
      ]
     },
     "execution_count": 17,
     "metadata": {},
     "output_type": "execute_result"
    }
   ],
   "source": [
    "dnd_lite.roll_4d6()"
   ]
  },
  {
   "cell_type": "code",
   "execution_count": null,
   "metadata": {},
   "outputs": [],
   "source": [
    "def generate_char(pc_class=0, pc_race=0, verbose=False):\n",
    "    ''' generate a character\n",
    "        0 means random selection\n",
    "    '''\n",
    "    \n",
    "    if pc_class == 0:\n",
    "        class_id = random.choice([3, 5, 9, 12])\n",
    "    else:\n",
    "        assert pc_class in [3, 5, 9, 12], 'invalid pc_class'\n",
    "        class_id = pc_class\n",
    "    \n",
    "    # ability scores\n",
    "    \n",
    "    std_array = [15, 14, 13, 12, 10, 8]\n",
    "    def gen_ability_scores(class_id):\n",
    "        ''' populate ability scores based on class\n",
    "        '''\n",
    "        if class_id == 3:\n",
    "            WIS = std_array.pop(0)\n",
    "            \n",
    "            ability_scores = {\n",
    "                \"STR\": 0,\n",
    "                \"DEX\": 0,\n",
    "                \"CON\": ,\n",
    "                \"INT\": \n",
    "                \"WIS\": std\n",
    "                \"CHA\":\n",
    "            }\n",
    "    \n",
    "    class_url = 'http://dnd5eapi.co/api/classes/' + str(random_c)\n",
    "    c = requests.get(class_url)\n",
    "    assert c.status_code == 200, 'error retrieving class info'\n",
    "    char_class = c.json()['name']\n",
    "    \n",
    "    \n",
    "    if verbose:\n",
    "        print(char_class)\n",
    "    \n",
    "    "
   ]
  },
  {
   "cell_type": "code",
   "execution_count": null,
   "metadata": {},
   "outputs": [],
   "source": []
  },
  {
   "cell_type": "code",
   "execution_count": null,
   "metadata": {},
   "outputs": [],
   "source": [
    "'''\n",
    "3 = cleric\n",
    "5 = fighter\n",
    "9 = rogue\n",
    "12 = wizard\n",
    "'''"
   ]
  },
  {
   "cell_type": "code",
   "execution_count": 20,
   "metadata": {},
   "outputs": [
    {
     "name": "stdout",
     "output_type": "stream",
     "text": [
      "5\n"
     ]
    }
   ],
   "source": [
    "random_c = random.choice([3, 5, 9, 12])\n",
    "print(random_c)\n",
    "c = requests.get('http://dnd5eapi.co/api/classes/' + str(random_c))"
   ]
  },
  {
   "cell_type": "code",
   "execution_count": 22,
   "metadata": {},
   "outputs": [
    {
     "data": {
      "text/plain": [
       "200"
      ]
     },
     "execution_count": 22,
     "metadata": {},
     "output_type": "execute_result"
    }
   ],
   "source": [
    "c.status_code"
   ]
  },
  {
   "cell_type": "code",
   "execution_count": 23,
   "metadata": {},
   "outputs": [
    {
     "data": {
      "text/plain": [
       "{'_id': '5bce90ff5b7768e792017cf5',\n",
       " 'index': 5,\n",
       " 'name': 'Fighter',\n",
       " 'hit_die': 10,\n",
       " 'proficiency_choices': [{'from': [{'name': 'Skill: Acrobatics',\n",
       "     'url': 'http://www.dnd5eapi.co/api/proficiencies/105'},\n",
       "    {'name': 'Skill: Animal Handling',\n",
       "     'url': 'http://www.dnd5eapi.co/api/proficiencies/106'},\n",
       "    {'name': 'Skill: Athletics',\n",
       "     'url': 'http://www.dnd5eapi.co/api/proficiencies/108'},\n",
       "    {'name': 'Skill: History',\n",
       "     'url': 'http://www.dnd5eapi.co/api/proficiencies/110'},\n",
       "    {'name': 'Skill: Insight',\n",
       "     'url': 'http://www.dnd5eapi.co/api/proficiencies/111'},\n",
       "    {'name': 'Skill: Intimidation',\n",
       "     'url': 'http://www.dnd5eapi.co/api/proficiencies/112'},\n",
       "    {'name': 'Skill: Perception',\n",
       "     'url': 'http://www.dnd5eapi.co/api/proficiencies/116'},\n",
       "    {'name': 'Skill: Survival',\n",
       "     'url': 'http://www.dnd5eapi.co/api/proficiencies/122'}],\n",
       "   'type': 'proficiencies',\n",
       "   'choose': 2}],\n",
       " 'proficiencies': [{'url': 'http://www.dnd5eapi.co/api/proficiencies/4',\n",
       "   'name': 'All armor'},\n",
       "  {'url': 'http://www.dnd5eapi.co/api/proficiencies/18', 'name': 'Shields'},\n",
       "  {'url': 'http://www.dnd5eapi.co/api/proficiencies/19',\n",
       "   'name': 'Simple weapons'},\n",
       "  {'url': 'http://www.dnd5eapi.co/api/proficiencies/20',\n",
       "   'name': 'Martial weapons'}],\n",
       " 'saving_throws': [{'url': 'http://www.dnd5eapi.co/api/ability-scores/1',\n",
       "   'name': 'STR'},\n",
       "  {'url': 'http://www.dnd5eapi.co/api/ability-scores/3', 'name': 'CON'}],\n",
       " 'starting_equipment': {'url': 'http://www.dnd5eapi.co/api/startingequipment/5',\n",
       "  'class': 'Fighter'},\n",
       " 'class_levels': {'url': 'http://www.dnd5eapi.co/api/classes/Fighter/levels',\n",
       "  'class': 'Fighter'},\n",
       " 'subclasses': [{'name': 'Champion',\n",
       "   'url': 'http://www.dnd5eapi.co/api/subclasses/5'}],\n",
       " 'url': 'http://www.dnd5eapi.co/api/classes/5'}"
      ]
     },
     "execution_count": 23,
     "metadata": {},
     "output_type": "execute_result"
    }
   ],
   "source": [
    "c.json()"
   ]
  },
  {
   "cell_type": "code",
   "execution_count": 30,
   "metadata": {},
   "outputs": [
    {
     "name": "stdout",
     "output_type": "stream",
     "text": [
      "Fighter\n"
     ]
    }
   ],
   "source": [
    "char_class = c.json()['name']\n",
    "print(char_class)"
   ]
  },
  {
   "cell_type": "code",
   "execution_count": 31,
   "metadata": {},
   "outputs": [
    {
     "name": "stdout",
     "output_type": "stream",
     "text": [
      "10\n"
     ]
    }
   ],
   "source": [
    "char_hd = c.json()['hit_die']\n",
    "print(char_hd)"
   ]
  },
  {
   "cell_type": "code",
   "execution_count": 28,
   "metadata": {},
   "outputs": [
    {
     "data": {
      "text/plain": [
       "[{'name': 'Skill: Acrobatics',\n",
       "  'url': 'http://www.dnd5eapi.co/api/proficiencies/105'},\n",
       " {'name': 'Skill: Animal Handling',\n",
       "  'url': 'http://www.dnd5eapi.co/api/proficiencies/106'},\n",
       " {'name': 'Skill: Athletics',\n",
       "  'url': 'http://www.dnd5eapi.co/api/proficiencies/108'},\n",
       " {'name': 'Skill: History',\n",
       "  'url': 'http://www.dnd5eapi.co/api/proficiencies/110'},\n",
       " {'name': 'Skill: Insight',\n",
       "  'url': 'http://www.dnd5eapi.co/api/proficiencies/111'},\n",
       " {'name': 'Skill: Intimidation',\n",
       "  'url': 'http://www.dnd5eapi.co/api/proficiencies/112'},\n",
       " {'name': 'Skill: Perception',\n",
       "  'url': 'http://www.dnd5eapi.co/api/proficiencies/116'},\n",
       " {'name': 'Skill: Survival',\n",
       "  'url': 'http://www.dnd5eapi.co/api/proficiencies/122'}]"
      ]
     },
     "execution_count": 28,
     "metadata": {},
     "output_type": "execute_result"
    }
   ],
   "source": [
    "c.json()['proficiency_choices'][0]['from']"
   ]
  },
  {
   "cell_type": "code",
   "execution_count": 35,
   "metadata": {},
   "outputs": [],
   "source": [
    "my_stats = [\n",
    "    ('STR',1),\n",
    "    ('DEX',2),\n",
    "    ('CON',3),\n",
    "    ('INT',4),\n",
    "    ('WIS',5),\n",
    "    ('CHA',6),\n",
    "]"
   ]
  },
  {
   "cell_type": "code",
   "execution_count": 36,
   "metadata": {},
   "outputs": [
    {
     "data": {
      "text/plain": [
       "[('STR', 1), ('DEX', 2), ('CON', 3), ('INT', 4), ('WIS', 5), ('CHA', 6)]"
      ]
     },
     "execution_count": 36,
     "metadata": {},
     "output_type": "execute_result"
    }
   ],
   "source": [
    "my_stats"
   ]
  },
  {
   "cell_type": "code",
   "execution_count": 41,
   "metadata": {},
   "outputs": [],
   "source": [
    "my_stat_priority_list = ['INT','CON','CHA','DEX','WIS','STR']"
   ]
  },
  {
   "cell_type": "code",
   "execution_count": 42,
   "metadata": {},
   "outputs": [
    {
     "data": {
      "text/plain": [
       "2"
      ]
     },
     "execution_count": 42,
     "metadata": {},
     "output_type": "execute_result"
    }
   ],
   "source": [
    "my_stat_priority_list.index('CHA')"
   ]
  },
  {
   "cell_type": "code",
   "execution_count": 43,
   "metadata": {},
   "outputs": [],
   "source": [
    "race_id = random.choice([1,2,3,4])\n",
    "race_url = 'http://dnd5eapi.co/api/races/' + str(race_id)\n",
    "r = requests.get(race_url)\n",
    "assert r.status_code == 200, 'error retrieving race info'\n"
   ]
  },
  {
   "cell_type": "code",
   "execution_count": 44,
   "metadata": {},
   "outputs": [
    {
     "data": {
      "text/plain": [
       "{'_id': '5bce91525b7768e792018385',\n",
       " 'index': 4,\n",
       " 'name': 'Human',\n",
       " 'speed': 30,\n",
       " 'ability_bonuses': [1, 1, 1, 1, 1, 1],\n",
       " 'age': 'Humans reach adulthood in their late teens and live less than a century.',\n",
       " 'alignment': 'Humans tend toward no particular alignment. The best and the worst are found among them.',\n",
       " 'size': 'Medium',\n",
       " 'size_description': 'Humans vary widely in height and build, from barely 5 feet to well over 6 feet tall. Regardless of your position in that range, your size is Medium.',\n",
       " 'starting_proficiencies': [],\n",
       " 'languages': [{'name': 'Common',\n",
       "   'url': 'http://www.dnd5eapi.co/api/languages/1'}],\n",
       " 'language_options': {'choose': 1,\n",
       "  'type': 'languages',\n",
       "  'from': [{'name': 'Dwarvish',\n",
       "    'url': 'http://www.dnd5eapi.co/api/languages/2'},\n",
       "   {'name': 'Elvish', 'url': 'http://www.dnd5eapi.co/api/languages/3'},\n",
       "   {'name': 'Giant', 'url': 'http://www.dnd5eapi.co/api/languages/4'},\n",
       "   {'name': 'Gnomish', 'url': 'http://www.dnd5eapi.co/api/languages/5'},\n",
       "   {'name': 'Goblin', 'url': 'http://www.dnd5eapi.co/api/languages/6'},\n",
       "   {'name': 'Halfling', 'url': 'http://www.dnd5eapi.co/api/languages/7'},\n",
       "   {'name': 'Orc', 'url': 'http://www.dnd5eapi.co/api/languages/8'},\n",
       "   {'name': 'Abyssal', 'url': 'http://www.dnd5eapi.co/api/languages/9'},\n",
       "   {'name': 'Celestial', 'url': 'http://www.dnd5eapi.co/api/languages/10'},\n",
       "   {'name': 'Draconic', 'url': 'http://www.dnd5eapi.co/api/languages/11'},\n",
       "   {'name': 'Deep Speech', 'url': 'http://www.dnd5eapi.co/api/languages/12'},\n",
       "   {'name': 'Infernal', 'url': 'http://www.dnd5eapi.co/api/languages/13'},\n",
       "   {'name': 'Primordial', 'url': 'http://www.dnd5eapi.co/api/languages/14'},\n",
       "   {'name': 'Sylvan', 'url': 'http://www.dnd5eapi.co/api/languages/15'},\n",
       "   {'name': 'Undercommon', 'url': 'http://www.dnd5eapi.co/api/languages/16'}]},\n",
       " 'language_desc': 'You can speak, read, and write Common and one extra language of your choice. Humans typically learn the languages of other peoples they deal with, including obscure dialects. They are fond of sprinkling their speech with words borrowed from other tongues: Orc curses, Elvish musical expressions, Dwarvish military phrases, and so on.',\n",
       " 'traits': [],\n",
       " 'subraces': [],\n",
       " 'url': 'http://www.dnd5eapi.co/api/races/4'}"
      ]
     },
     "execution_count": 44,
     "metadata": {},
     "output_type": "execute_result"
    }
   ],
   "source": [
    "r.json()"
   ]
  },
  {
   "cell_type": "code",
   "execution_count": 49,
   "metadata": {},
   "outputs": [
    {
     "ename": "SyntaxError",
     "evalue": "EOL while scanning string literal (<ipython-input-49-87b718a188d4>, line 1)",
     "output_type": "error",
     "traceback": [
      "\u001b[0;36m  File \u001b[0;32m\"<ipython-input-49-87b718a188d4>\"\u001b[0;36m, line \u001b[0;32m1\u001b[0m\n\u001b[0;31m    long_string = 'first line\\n\u001b[0m\n\u001b[0m                               ^\u001b[0m\n\u001b[0;31mSyntaxError\u001b[0m\u001b[0;31m:\u001b[0m EOL while scanning string literal\n"
     ]
    }
   ],
   "source": [
    "long_string = 'first line\\n\n",
    "second line\\n\n",
    "third line'"
   ]
  },
  {
   "cell_type": "code",
   "execution_count": 48,
   "metadata": {},
   "outputs": [
    {
     "data": {
      "text/plain": [
       "'first linesecond linethird line'"
      ]
     },
     "execution_count": 48,
     "metadata": {},
     "output_type": "execute_result"
    }
   ],
   "source": [
    "long_string"
   ]
  },
  {
   "cell_type": "code",
   "execution_count": null,
   "metadata": {},
   "outputs": [],
   "source": []
  }
 ],
 "metadata": {
  "kernelspec": {
   "display_name": "Python 3",
   "language": "python",
   "name": "python3"
  },
  "language_info": {
   "codemirror_mode": {
    "name": "ipython",
    "version": 3
   },
   "file_extension": ".py",
   "mimetype": "text/x-python",
   "name": "python",
   "nbconvert_exporter": "python",
   "pygments_lexer": "ipython3",
   "version": "3.7.1"
  }
 },
 "nbformat": 4,
 "nbformat_minor": 2
}
