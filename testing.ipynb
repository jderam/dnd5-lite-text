{
 "cells": [
  {
   "cell_type": "code",
   "execution_count": 1,
   "metadata": {},
   "outputs": [],
   "source": [
    "%load_ext autoreload\n",
    "%autoreload 2"
   ]
  },
  {
   "cell_type": "code",
   "execution_count": 2,
   "metadata": {},
   "outputs": [],
   "source": [
    "import char_gen"
   ]
  },
  {
   "cell_type": "code",
   "execution_count": 35,
   "metadata": {},
   "outputs": [
    {
     "name": "stdout",
     "output_type": "stream",
     "text": [
      "ability_scores before mod: {'STR': 15, 'DEX': 12, 'CON': 14, 'INT': 8, 'WIS': 10, 'CHA': 13}\n",
      "Class: Fighter\n",
      "Race: Dwarf\n",
      "Hit Die: 1d10\n",
      "ABILITY SCORES\n",
      "STR: 15\n",
      "{'STR': 15, 'DEX': 12, 'CON': 16, 'INT': 8, 'WIS': 10, 'CHA': 12}\n",
      "['All armor', 'Shields', 'Simple weapons', 'Martial weapons']\n",
      "     score    mod    save\n",
      "STR:  15      +2      +4\n",
      "DEX:  12      +1      +1\n",
      "CON:  16      +3      +5\n",
      "INT:   8      -1      -1\n",
      "WIS:  10      +0      +0\n",
      "CHA:  12      +1      +1\n"
     ]
    }
   ],
   "source": [
    "char_gen.generate_char(class_id=0, race_id=0, verbose=True)"
   ]
  },
  {
   "cell_type": "code",
   "execution_count": null,
   "metadata": {},
   "outputs": [],
   "source": []
  },
  {
   "cell_type": "code",
   "execution_count": null,
   "metadata": {},
   "outputs": [],
   "source": []
  }
 ],
 "metadata": {
  "kernelspec": {
   "display_name": "Python 3",
   "language": "python",
   "name": "python3"
  },
  "language_info": {
   "codemirror_mode": {
    "name": "ipython",
    "version": 3
   },
   "file_extension": ".py",
   "mimetype": "text/x-python",
   "name": "python",
   "nbconvert_exporter": "python",
   "pygments_lexer": "ipython3",
   "version": "3.7.1"
  }
 },
 "nbformat": 4,
 "nbformat_minor": 2
}
