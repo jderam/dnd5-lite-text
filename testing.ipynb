{
 "cells": [
  {
   "cell_type": "code",
   "execution_count": 1,
   "metadata": {},
   "outputs": [],
   "source": [
    "%load_ext autoreload\n",
    "%autoreload 2"
   ]
  },
  {
   "cell_type": "code",
   "execution_count": 2,
   "metadata": {},
   "outputs": [],
   "source": [
    "import char_gen"
   ]
  },
  {
   "cell_type": "code",
   "execution_count": 37,
   "metadata": {},
   "outputs": [
    {
     "name": "stdout",
     "output_type": "stream",
     "text": [
      "ability_scores before mod: {'STR': 8, 'DEX': 14, 'CON': 13, 'INT': 15, 'WIS': 12, 'CHA': 10}\n",
      "Class: Wizard\n",
      "Race: Human\n",
      "Hit Die: 1d6\n",
      "ABILITY SCORES\n",
      "STR: 9\n",
      "{'STR': 9, 'DEX': 15, 'CON': 14, 'INT': 17, 'WIS': 13, 'CHA': 11}\n",
      "['Daggers', 'Quarterstaffs', 'Darts', 'Slings']\n",
      "     score    mod    save\n",
      "STR:   9      -1      -1\n",
      "DEX:  15      +2      +2\n",
      "CON:  14      +2      +2\n",
      "INT:  17      +3      +5\n",
      "WIS:  13      +1      +3\n",
      "CHA:  11      +0      +0\n"
     ]
    }
   ],
   "source": [
    "char_gen.generate_char(class_id=0, race_id=0, verbose=True)"
   ]
  },
  {
   "cell_type": "code",
   "execution_count": null,
   "metadata": {},
   "outputs": [],
   "source": []
  },
  {
   "cell_type": "code",
   "execution_count": null,
   "metadata": {},
   "outputs": [],
   "source": []
  }
 ],
 "metadata": {
  "kernelspec": {
   "display_name": "Python 3",
   "language": "python",
   "name": "python3"
  },
  "language_info": {
   "codemirror_mode": {
    "name": "ipython",
    "version": 3
   },
   "file_extension": ".py",
   "mimetype": "text/x-python",
   "name": "python",
   "nbconvert_exporter": "python",
   "pygments_lexer": "ipython3",
   "version": "3.7.1"
  }
 },
 "nbformat": 4,
 "nbformat_minor": 2
}
